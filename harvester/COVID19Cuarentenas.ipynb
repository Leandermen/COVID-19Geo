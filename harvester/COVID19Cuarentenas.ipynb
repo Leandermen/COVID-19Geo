{
 "cells": [
  {
   "cell_type": "code",
   "execution_count": 1,
   "metadata": {},
   "outputs": [
    {
     "output_type": "execute_result",
     "data": {
      "text/plain": "<Item title:\"COVID-19 Chile: Medidas Sanitarias\" type:Feature Layer Collection owner:lzamudio@soporta.cl_soportachile>",
      "text/html": "<div class=\"item_container\" style=\"height: auto; overflow: hidden; border: 1px solid #cfcfcf; border-radius: 2px; background: #f6fafa; line-height: 1.21429em; padding: 10px;\">\n                    <div class=\"item_left\" style=\"width: 210px; float: left;\">\n                       <a href='https://www.arcgis.com/home/item.html?id=0b944d9bf1954c71a7fae96bdddee464' target='_blank'>\n                        <img src='https://www.arcgis.com/sharing/rest//content/items/0b944d9bf1954c71a7fae96bdddee464/info/thumbnail/thumbnail1587653520368.png' class=\"itemThumbnail\">\n                       </a>\n                    </div>\n\n                    <div class=\"item_right\"     style=\"float: none; width: auto; overflow: hidden;\">\n                        <a href='https://www.arcgis.com/home/item.html?id=0b944d9bf1954c71a7fae96bdddee464' target='_blank'><b>COVID-19 Chile: Medidas Sanitarias</b>\n                        </a>\n                        <br/>Base de Datos de Medidas Sanitarias del Plan de Acción de salud del Gobierno de Chile<img src='https://www.arcgis.com/home/js/jsapi/esri/css/images/item_type_icons/featureshosted16.png' style=\"vertical-align:middle;\">Feature Layer Collection by lzamudio@soporta.cl_soportachile\n                        <br/>Last Modified: mayo 01, 2020\n                        <br/>0 comments, 352.681 views\n                    </div>\n                </div>\n                "
     },
     "metadata": {},
     "execution_count": 1
    }
   ],
   "source": [
    "from arcgis.gis import GIS\n",
    "from arcgis.features import Table\n",
    "from IPython.display import display\n",
    "from datetime import datetime\n",
    "gis = GIS()\n",
    "#Medidas Sanitarias:0b944d9bf1954c71a7fae96bdddee464\n",
    "Medidas=gis.content.get('0b944d9bf1954c71a7fae96bdddee464')\n",
    "Medidas"
   ]
  },
  {
   "cell_type": "code",
   "execution_count": null,
   "metadata": {},
   "outputs": [],
   "source": []
  }
 ],
 "metadata": {
  "language_info": {
   "codemirror_mode": {
    "name": "ipython",
    "version": 3
   },
   "file_extension": ".py",
   "mimetype": "text/x-python",
   "name": "python",
   "nbconvert_exporter": "python",
   "pygments_lexer": "ipython3",
   "version": "3.7.6-final"
  },
  "orig_nbformat": 2,
  "kernelspec": {
   "name": "python36064bitrootconda901191f5f68e40d0a09fc0adeb2a2faa",
   "display_name": "Python 3.6.0 64-bit ('root': conda)"
  }
 },
 "nbformat": 4,
 "nbformat_minor": 2
}