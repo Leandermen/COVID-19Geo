{
 "cells": [
  {
   "cell_type": "code",
   "execution_count": 1,
   "metadata": {},
   "outputs": [
    {
     "output_type": "execute_result",
     "data": {
      "text/plain": "<Item title:\"COVID-19 Chile: Medidas Sanitarias\" type:Feature Layer Collection owner:lzamudio@soporta.cl_soportachile>",
      "text/html": "<div class=\"item_container\" style=\"height: auto; overflow: hidden; border: 1px solid #cfcfcf; border-radius: 2px; background: #f6fafa; line-height: 1.21429em; padding: 10px;\">\n                    <div class=\"item_left\" style=\"width: 210px; float: left;\">\n                       <a href='https://www.arcgis.com/home/item.html?id=0b944d9bf1954c71a7fae96bdddee464' target='_blank'>\n                        <img src='https://www.arcgis.com/sharing/rest//content/items/0b944d9bf1954c71a7fae96bdddee464/info/thumbnail/thumbnail1587653520368.png' class=\"itemThumbnail\">\n                       </a>\n                    </div>\n\n                    <div class=\"item_right\"     style=\"float: none; width: auto; overflow: hidden;\">\n                        <a href='https://www.arcgis.com/home/item.html?id=0b944d9bf1954c71a7fae96bdddee464' target='_blank'><b>COVID-19 Chile: Medidas Sanitarias</b>\n                        </a>\n                        <br/>Base de Datos de Medidas Sanitarias del Plan de Acción de salud del Gobierno de Chile<img src='https://www.arcgis.com/home/js/jsapi/esri/css/images/item_type_icons/featureshosted16.png' style=\"vertical-align:middle;\">Feature Layer Collection by lzamudio@soporta.cl_soportachile\n                        <br/>Last Modified: mayo 01, 2020\n                        <br/>0 comments, 422.968 views\n                    </div>\n                </div>\n                "
     },
     "metadata": {},
     "execution_count": 1
    }
   ],
   "source": [
    "import pandas as pand\n",
    "from arcgis.gis import GIS\n",
    "from arcgis.features import Table,GeoAccessor, GeoSeriesAccessor\n",
    "from IPython.display import display\n",
    "gis = GIS()\n",
    "#Medidas Sanitarias:0b944d9bf1954c71a7fae96bdddee464\n",
    "Medidas=gis.content.get('0b944d9bf1954c71a7fae96bdddee464')\n",
    "Capas=Medidas.layers\n",
    "Cuarentenas=Capas[1]\n",
    "Medidas"
   ]
  },
  {
   "cell_type": "code",
   "execution_count": 2,
   "metadata": {},
   "outputs": [
    {
     "output_type": "execute_result",
     "data": {
      "text/plain": "   OBJECTID  CuarentenaID                   Nombre  Estado  Alcance  \\\n0         1             1                    Arica       1        2   \n1         2             2           Santiago Norte       1        4   \n2         3             3     Puente Alto Poniente       1        4   \n3         4             4                El Bosque       1        1   \n4         5             5  San Bernardo Nororiente       1        4   \n\n              FInicio            FTermino  Cut_Com  \\\n0 2020-04-17 02:00:00 2020-05-08 02:00:00    15101   \n1 2020-04-13 09:00:00 2020-05-08 02:00:00    13101   \n2 2020-04-10 02:00:00 2020-05-08 02:00:00    13201   \n3 2020-04-17 02:00:00 2020-05-08 02:00:00    13105   \n4 2020-04-17 02:00:00 2020-05-08 02:00:00    13401   \n\n                                             Detalle  \\\n0  Corresponde al Radio Urbano de la Ciudad de Ar...   \n1  Corresponde a la extensión de la cuarentena en...   \n2  Corresponde al sector delimitado por la Av. Co...   \n3                                               None   \n4  Corresponde al sector delimitado por los limit...   \n\n                               GlobalID                      created_user  \\\n0  d03bd85c-9e0c-43be-9c53-92b75f0198af  lzamudio@soporta.cl_soportachile   \n1  1d643d6d-8955-4188-ae14-6fb4a3f1addc  lzamudio@soporta.cl_soportachile   \n2  52d8b31a-e552-4d86-a9bd-14c39bd647c4  lzamudio@soporta.cl_soportachile   \n3  a8e2e38d-6fe2-4cc1-a77c-e8f98afd4f17  lzamudio@soporta.cl_soportachile   \n4  b82acfd9-366c-4201-a777-0ad089db1fa4  lzamudio@soporta.cl_soportachile   \n\n             created_date                  last_edited_user  \\\n0 2020-04-23 03:43:38.051  lzamudio@soporta.cl_soportachile   \n1 2020-04-23 03:43:38.051  lzamudio@soporta.cl_soportachile   \n2 2020-04-23 03:43:38.051  lzamudio@soporta.cl_soportachile   \n3 2020-04-23 03:43:38.051  lzamudio@soporta.cl_soportachile   \n4 2020-04-23 03:43:38.051  lzamudio@soporta.cl_soportachile   \n\n         last_edited_date   Shape__Area  Shape__Length  \\\n0 2020-04-28 16:09:59.348  2.805042e+07   48722.300013   \n1 2020-04-28 16:10:04.974  1.993922e+07   21599.351343   \n2 2020-04-28 16:10:11.080  4.236427e+07   30428.051523   \n3 2020-04-28 16:10:24.118  2.062271e+07   18788.870751   \n4 2020-04-28 16:10:28.337  1.632622e+07   24929.145720   \n\n                                               SHAPE  \n0  {\"rings\": [[[-7828315.653, -2093716.3584], [-7...  \n1  {\"rings\": [[[-7868118.8275, -3952887.3704], [-...  \n2  {\"rings\": [[[-7858312.0256, -3971194.6136], [-...  \n3  {\"rings\": [[[-7868656.278, -3967081.1805], [-7...  \n4  {\"rings\": [[[-7866599.0938, -3974762.2281], [-...  ",
      "text/html": "<div>\n<style scoped>\n    .dataframe tbody tr th:only-of-type {\n        vertical-align: middle;\n    }\n\n    .dataframe tbody tr th {\n        vertical-align: top;\n    }\n\n    .dataframe thead th {\n        text-align: right;\n    }\n</style>\n<table border=\"1\" class=\"dataframe\">\n  <thead>\n    <tr style=\"text-align: right;\">\n      <th></th>\n      <th>OBJECTID</th>\n      <th>CuarentenaID</th>\n      <th>Nombre</th>\n      <th>Estado</th>\n      <th>Alcance</th>\n      <th>FInicio</th>\n      <th>FTermino</th>\n      <th>Cut_Com</th>\n      <th>Detalle</th>\n      <th>GlobalID</th>\n      <th>created_user</th>\n      <th>created_date</th>\n      <th>last_edited_user</th>\n      <th>last_edited_date</th>\n      <th>Shape__Area</th>\n      <th>Shape__Length</th>\n      <th>SHAPE</th>\n    </tr>\n  </thead>\n  <tbody>\n    <tr>\n      <th>0</th>\n      <td>1</td>\n      <td>1</td>\n      <td>Arica</td>\n      <td>1</td>\n      <td>2</td>\n      <td>2020-04-17 02:00:00</td>\n      <td>2020-05-08 02:00:00</td>\n      <td>15101</td>\n      <td>Corresponde al Radio Urbano de la Ciudad de Ar...</td>\n      <td>d03bd85c-9e0c-43be-9c53-92b75f0198af</td>\n      <td>lzamudio@soporta.cl_soportachile</td>\n      <td>2020-04-23 03:43:38.051</td>\n      <td>lzamudio@soporta.cl_soportachile</td>\n      <td>2020-04-28 16:09:59.348</td>\n      <td>2.805042e+07</td>\n      <td>48722.300013</td>\n      <td>{\"rings\": [[[-7828315.653, -2093716.3584], [-7...</td>\n    </tr>\n    <tr>\n      <th>1</th>\n      <td>2</td>\n      <td>2</td>\n      <td>Santiago Norte</td>\n      <td>1</td>\n      <td>4</td>\n      <td>2020-04-13 09:00:00</td>\n      <td>2020-05-08 02:00:00</td>\n      <td>13101</td>\n      <td>Corresponde a la extensión de la cuarentena en...</td>\n      <td>1d643d6d-8955-4188-ae14-6fb4a3f1addc</td>\n      <td>lzamudio@soporta.cl_soportachile</td>\n      <td>2020-04-23 03:43:38.051</td>\n      <td>lzamudio@soporta.cl_soportachile</td>\n      <td>2020-04-28 16:10:04.974</td>\n      <td>1.993922e+07</td>\n      <td>21599.351343</td>\n      <td>{\"rings\": [[[-7868118.8275, -3952887.3704], [-...</td>\n    </tr>\n    <tr>\n      <th>2</th>\n      <td>3</td>\n      <td>3</td>\n      <td>Puente Alto Poniente</td>\n      <td>1</td>\n      <td>4</td>\n      <td>2020-04-10 02:00:00</td>\n      <td>2020-05-08 02:00:00</td>\n      <td>13201</td>\n      <td>Corresponde al sector delimitado por la Av. Co...</td>\n      <td>52d8b31a-e552-4d86-a9bd-14c39bd647c4</td>\n      <td>lzamudio@soporta.cl_soportachile</td>\n      <td>2020-04-23 03:43:38.051</td>\n      <td>lzamudio@soporta.cl_soportachile</td>\n      <td>2020-04-28 16:10:11.080</td>\n      <td>4.236427e+07</td>\n      <td>30428.051523</td>\n      <td>{\"rings\": [[[-7858312.0256, -3971194.6136], [-...</td>\n    </tr>\n    <tr>\n      <th>3</th>\n      <td>4</td>\n      <td>4</td>\n      <td>El Bosque</td>\n      <td>1</td>\n      <td>1</td>\n      <td>2020-04-17 02:00:00</td>\n      <td>2020-05-08 02:00:00</td>\n      <td>13105</td>\n      <td>None</td>\n      <td>a8e2e38d-6fe2-4cc1-a77c-e8f98afd4f17</td>\n      <td>lzamudio@soporta.cl_soportachile</td>\n      <td>2020-04-23 03:43:38.051</td>\n      <td>lzamudio@soporta.cl_soportachile</td>\n      <td>2020-04-28 16:10:24.118</td>\n      <td>2.062271e+07</td>\n      <td>18788.870751</td>\n      <td>{\"rings\": [[[-7868656.278, -3967081.1805], [-7...</td>\n    </tr>\n    <tr>\n      <th>4</th>\n      <td>5</td>\n      <td>5</td>\n      <td>San Bernardo Nororiente</td>\n      <td>1</td>\n      <td>4</td>\n      <td>2020-04-17 02:00:00</td>\n      <td>2020-05-08 02:00:00</td>\n      <td>13401</td>\n      <td>Corresponde al sector delimitado por los limit...</td>\n      <td>b82acfd9-366c-4201-a777-0ad089db1fa4</td>\n      <td>lzamudio@soporta.cl_soportachile</td>\n      <td>2020-04-23 03:43:38.051</td>\n      <td>lzamudio@soporta.cl_soportachile</td>\n      <td>2020-04-28 16:10:28.337</td>\n      <td>1.632622e+07</td>\n      <td>24929.145720</td>\n      <td>{\"rings\": [[[-7866599.0938, -3974762.2281], [-...</td>\n    </tr>\n  </tbody>\n</table>\n</div>"
     },
     "metadata": {},
     "execution_count": 2
    }
   ],
   "source": [
    "#Ejemplo trabajando con toda la capa como Spatial Enabled Data Frame\n",
    "sdf = pand.DataFrame.spatial.from_layer(Cuarentenas)\n",
    "sdf.head()"
   ]
  },
  {
   "cell_type": "code",
   "execution_count": 5,
   "metadata": {},
   "outputs": [
    {
     "output_type": "execute_result",
     "data": {
      "text/plain": "          ID   Nombre     Estado               Alcance     Fecha de Inicio  \\\nOBJECTID                                                                     \n6          6  Chillán  Histórica  Área Urbana Completa 2020-03-31 01:00:00   \n\n            Fecha de Término  Código CUT Comuna Detalle  Superficie en m2  \\\nOBJECTID                                                                    \n6        2020-04-24 02:00:00              16101    None      3.783543e+07   \n\n          Perímetro en m  \nOBJECTID                  \n6            49337.02457  ",
      "text/html": "<div>\n<style scoped>\n    .dataframe tbody tr th:only-of-type {\n        vertical-align: middle;\n    }\n\n    .dataframe tbody tr th {\n        vertical-align: top;\n    }\n\n    .dataframe thead th {\n        text-align: right;\n    }\n</style>\n<table border=\"1\" class=\"dataframe\">\n  <thead>\n    <tr style=\"text-align: right;\">\n      <th></th>\n      <th>ID</th>\n      <th>Nombre</th>\n      <th>Estado</th>\n      <th>Alcance</th>\n      <th>Fecha de Inicio</th>\n      <th>Fecha de Término</th>\n      <th>Código CUT Comuna</th>\n      <th>Detalle</th>\n      <th>Superficie en m2</th>\n      <th>Perímetro en m</th>\n    </tr>\n    <tr>\n      <th>OBJECTID</th>\n      <th></th>\n      <th></th>\n      <th></th>\n      <th></th>\n      <th></th>\n      <th></th>\n      <th></th>\n      <th></th>\n      <th></th>\n      <th></th>\n    </tr>\n  </thead>\n  <tbody>\n    <tr>\n      <th>6</th>\n      <td>6</td>\n      <td>Chillán</td>\n      <td>Histórica</td>\n      <td>Área Urbana Completa</td>\n      <td>2020-03-31 01:00:00</td>\n      <td>2020-04-24 02:00:00</td>\n      <td>16101</td>\n      <td>None</td>\n      <td>3.783543e+07</td>\n      <td>49337.02457</td>\n    </tr>\n  </tbody>\n</table>\n</div>"
     },
     "metadata": {},
     "execution_count": 5
    }
   ],
   "source": [
    "CuarTotal=Cuarentenas.query(out_fields='CuarentenaID,Nombre,Estado,Alcance,FInicio,FTermino,Cut_Com,Detalle,Shape__Area,Shape__Length',return_geometry=False).sdf\n",
    "CuarTotal.set_index(\"OBJECTID\", inplace=True)\n",
    "CuarActivas=CuarTotal[(CuarTotal['Estado'] == 1)|(CuarTotal['Estado'] == 3)]\n",
    "CuarHistoricas=CuarTotal[(CuarTotal['Estado'] == 2)]\n",
    "Productos=[CuarTotal,CuarActivas,CuarHistoricas]\n",
    "for producto in Productos:\n",
    "    producto.loc[(producto.Estado == 1),'Estado']='Activa'\n",
    "    producto.loc[(producto.Estado == 2),'Estado']='Histórica'\n",
    "    producto.loc[(producto.Estado == 3),'Estado']='Futura'\n",
    "    producto.loc[(producto.Alcance == 1),'Alcance']='Comuna completa'\n",
    "    producto.loc[(producto.Alcance == 2),'Alcance']='Área Urbana Completa'\n",
    "    producto.loc[(producto.Alcance == 3),'Alcance']='Área Rural Completa'\n",
    "    producto.loc[(producto.Alcance == 4),'Alcance']='Sector Específico'\n",
    "    producto.rename(columns={'CuarentenaID': 'ID', 'FInicio': 'Fecha de Inicio','FTermino': 'Fecha de Término','Cut_Com': 'Código CUT Comuna','Shape__Area': 'Superficie en m2','Shape__Length': 'Perímetro en m'},inplace=True)"
   ]
  },
  {
   "cell_type": "code",
   "execution_count": 8,
   "metadata": {},
   "outputs": [],
   "source": [
    "CuarTotal.to_csv(path_or_buf=\"../output/Cuarentenas-Totales.csv\",index=False)\n",
    "CuarActivas.to_csv(path_or_buf=\"../output/Cuarentenas-Activas.csv\",index=False)\n",
    "CuarHistoricas.to_csv(path_or_buf=\"../output/Cuarentenas-Historicas.csv\",index=False)"
   ]
  },
  {
   "cell_type": "code",
   "execution_count": null,
   "metadata": {},
   "outputs": [],
   "source": []
  }
 ],
 "metadata": {
  "language_info": {
   "codemirror_mode": {
    "name": "ipython",
    "version": 3
   },
   "file_extension": ".py",
   "mimetype": "text/x-python",
   "name": "python",
   "nbconvert_exporter": "python",
   "pygments_lexer": "ipython3",
   "version": "3.7.6-final"
  },
  "orig_nbformat": 2,
  "kernelspec": {
   "name": "python36064bitrootconda901191f5f68e40d0a09fc0adeb2a2faa",
   "display_name": "Python 3.6.0 64-bit ('root': conda)"
  }
 },
 "nbformat": 4,
 "nbformat_minor": 2
}